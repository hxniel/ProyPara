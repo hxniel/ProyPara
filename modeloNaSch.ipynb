{
  "nbformat": 4,
  "nbformat_minor": 0,
  "metadata": {
    "colab": {
      "provenance": [],
      "gpuType": "T4"
    },
    "kernelspec": {
      "name": "python3",
      "display_name": "Python 3"
    },
    "language_info": {
      "name": "python"
    },
    "accelerator": "GPU"
  },
  "cells": [
    {
      "cell_type": "code",
      "execution_count": null,
      "metadata": {
        "colab": {
          "base_uri": "https://localhost:8080/"
        },
        "id": "y6aVIFypnv5z",
        "outputId": "80cdca8c-0c43-4b27-c87c-144b00b5b866"
      },
      "outputs": [
        {
          "output_type": "stream",
          "name": "stdout",
          "text": [
            "\u001b[33mWARNING: Skipping cupy as it is not installed.\u001b[0m\u001b[33m\n",
            "\u001b[0m\u001b[33mWARNING: Skipping cupy-cuda11x as it is not installed.\u001b[0m\u001b[33m\n",
            "\u001b[0m\u001b[33mWARNING: Skipping cupy-cuda112 as it is not installed.\u001b[0m\u001b[33m\n",
            "\u001b[0m\u001b[33mWARNING: Skipping cupy-cuda113 as it is not installed.\u001b[0m\u001b[33m\n",
            "\u001b[0m\u001b[33mWARNING: Skipping cupy-cuda115 as it is not installed.\u001b[0m\u001b[33m\n",
            "\u001b[0m"
          ]
        }
      ],
      "source": [
        "!pip uninstall -y cupy cupy-cuda11x cupy-cuda112 cupy-cuda113 cupy-cuda115"
      ]
    },
    {
      "cell_type": "code",
      "source": [
        "!pip install cupy-cuda11x"
      ],
      "metadata": {
        "colab": {
          "base_uri": "https://localhost:8080/"
        },
        "id": "EMNo5zCCohrF",
        "outputId": "b5030899-5c22-400a-e7b8-adb91ba8061d"
      },
      "execution_count": null,
      "outputs": [
        {
          "output_type": "stream",
          "name": "stdout",
          "text": [
            "Collecting cupy-cuda11x\n",
            "  Downloading cupy_cuda11x-13.4.1-cp311-cp311-manylinux2014_x86_64.whl.metadata (2.7 kB)\n",
            "Requirement already satisfied: numpy<2.3,>=1.22 in /usr/local/lib/python3.11/dist-packages (from cupy-cuda11x) (2.0.2)\n",
            "Requirement already satisfied: fastrlock>=0.5 in /usr/local/lib/python3.11/dist-packages (from cupy-cuda11x) (0.8.3)\n",
            "Downloading cupy_cuda11x-13.4.1-cp311-cp311-manylinux2014_x86_64.whl (100.0 MB)\n",
            "\u001b[2K   \u001b[90m━━━━━━━━━━━━━━━━━━━━━━━━━━━━━━━━━━━━━━━━\u001b[0m \u001b[32m100.0/100.0 MB\u001b[0m \u001b[31m6.8 MB/s\u001b[0m eta \u001b[36m0:00:00\u001b[0m\n",
            "\u001b[?25hInstalling collected packages: cupy-cuda11x\n",
            "Successfully installed cupy-cuda11x-13.4.1\n"
          ]
        }
      ]
    },
    {
      "cell_type": "code",
      "source": [
        "!nvidia-smi"
      ],
      "metadata": {
        "colab": {
          "base_uri": "https://localhost:8080/"
        },
        "id": "XJUu7whqosY2",
        "outputId": "095a3db6-4ddb-414b-eb7a-33322386a8fd"
      },
      "execution_count": null,
      "outputs": [
        {
          "output_type": "stream",
          "name": "stdout",
          "text": [
            "/bin/bash: line 1: nvidia-smi: command not found\n"
          ]
        }
      ]
    },
    {
      "cell_type": "code",
      "source": [
        "!nvidia-smi"
      ],
      "metadata": {
        "colab": {
          "base_uri": "https://localhost:8080/"
        },
        "id": "b1LGrnMLo5bQ",
        "outputId": "154495ac-6107-4802-d5b7-b1206f525f95"
      },
      "execution_count": null,
      "outputs": [
        {
          "output_type": "stream",
          "name": "stdout",
          "text": [
            "Mon Jun 16 16:51:14 2025       \n",
            "+-----------------------------------------------------------------------------------------+\n",
            "| NVIDIA-SMI 550.54.15              Driver Version: 550.54.15      CUDA Version: 12.4     |\n",
            "|-----------------------------------------+------------------------+----------------------+\n",
            "| GPU  Name                 Persistence-M | Bus-Id          Disp.A | Volatile Uncorr. ECC |\n",
            "| Fan  Temp   Perf          Pwr:Usage/Cap |           Memory-Usage | GPU-Util  Compute M. |\n",
            "|                                         |                        |               MIG M. |\n",
            "|=========================================+========================+======================|\n",
            "|   0  Tesla T4                       Off |   00000000:00:04.0 Off |                    0 |\n",
            "| N/A   67C    P8             11W /   70W |       0MiB /  15360MiB |      0%      Default |\n",
            "|                                         |                        |                  N/A |\n",
            "+-----------------------------------------+------------------------+----------------------+\n",
            "                                                                                         \n",
            "+-----------------------------------------------------------------------------------------+\n",
            "| Processes:                                                                              |\n",
            "|  GPU   GI   CI        PID   Type   Process name                              GPU Memory |\n",
            "|        ID   ID                                                               Usage      |\n",
            "|=========================================================================================|\n",
            "|  No running processes found                                                             |\n",
            "+-----------------------------------------------------------------------------------------+\n"
          ]
        }
      ]
    },
    {
      "cell_type": "code",
      "source": [
        "!pip uninstall -y cupy cupy-cuda11x cupy-cuda12x cupy-cuda120 cupy-cuda121 cupy-cuda122 cupy-cuda124"
      ],
      "metadata": {
        "colab": {
          "base_uri": "https://localhost:8080/"
        },
        "id": "d_p8ra6Vp7s9",
        "outputId": "6c6cf269-4cfb-4dba-8033-2257d3ffe93a"
      },
      "execution_count": null,
      "outputs": [
        {
          "output_type": "stream",
          "name": "stdout",
          "text": [
            "\u001b[33mWARNING: Skipping cupy as it is not installed.\u001b[0m\u001b[33m\n",
            "\u001b[0m\u001b[33mWARNING: Skipping cupy-cuda11x as it is not installed.\u001b[0m\u001b[33m\n",
            "\u001b[0mFound existing installation: cupy-cuda12x 13.3.0\n",
            "Uninstalling cupy-cuda12x-13.3.0:\n",
            "  Successfully uninstalled cupy-cuda12x-13.3.0\n",
            "\u001b[33mWARNING: Skipping cupy-cuda120 as it is not installed.\u001b[0m\u001b[33m\n",
            "\u001b[0m\u001b[33mWARNING: Skipping cupy-cuda121 as it is not installed.\u001b[0m\u001b[33m\n",
            "\u001b[0m\u001b[33mWARNING: Skipping cupy-cuda122 as it is not installed.\u001b[0m\u001b[33m\n",
            "\u001b[0m\u001b[33mWARNING: Skipping cupy-cuda124 as it is not installed.\u001b[0m\u001b[33m\n",
            "\u001b[0m"
          ]
        }
      ]
    },
    {
      "cell_type": "code",
      "source": [
        "!pip install cupy-cuda12x"
      ],
      "metadata": {
        "colab": {
          "base_uri": "https://localhost:8080/"
        },
        "id": "d3AqzxMzp88n",
        "outputId": "bb3debd0-30fb-4528-e039-91584e37ec18"
      },
      "execution_count": null,
      "outputs": [
        {
          "output_type": "stream",
          "name": "stdout",
          "text": [
            "Collecting cupy-cuda12x\n",
            "  Downloading cupy_cuda12x-13.4.1-cp311-cp311-manylinux2014_x86_64.whl.metadata (2.6 kB)\n",
            "Requirement already satisfied: numpy<2.3,>=1.22 in /usr/local/lib/python3.11/dist-packages (from cupy-cuda12x) (2.0.2)\n",
            "Requirement already satisfied: fastrlock>=0.5 in /usr/local/lib/python3.11/dist-packages (from cupy-cuda12x) (0.8.3)\n",
            "Downloading cupy_cuda12x-13.4.1-cp311-cp311-manylinux2014_x86_64.whl (105.4 MB)\n",
            "\u001b[2K   \u001b[90m━━━━━━━━━━━━━━━━━━━━━━━━━━━━━━━━━━━━━━━━\u001b[0m \u001b[32m105.4/105.4 MB\u001b[0m \u001b[31m8.8 MB/s\u001b[0m eta \u001b[36m0:00:00\u001b[0m\n",
            "\u001b[?25hInstalling collected packages: cupy-cuda12x\n",
            "Successfully installed cupy-cuda12x-13.4.1\n"
          ]
        }
      ]
    },
    {
      "cell_type": "code",
      "source": [
        "import cupy as cp\n",
        "print(\"GPU count:\", cp.cuda.runtime.getDeviceCount())"
      ],
      "metadata": {
        "colab": {
          "base_uri": "https://localhost:8080/"
        },
        "id": "4-xIBUx-qGT9",
        "outputId": "05d9bb96-0bee-41c7-fc38-0380eddec473"
      },
      "execution_count": null,
      "outputs": [
        {
          "output_type": "stream",
          "name": "stdout",
          "text": [
            "GPU count: 1\n"
          ]
        }
      ]
    },
    {
      "cell_type": "code",
      "source": [
        "import cupy as cp\n",
        "import time\n",
        "\n",
        "def initialize_road(L, density, vmax):\n",
        "    return cp.where(\n",
        "        cp.random.random(L) < density,\n",
        "        cp.random.randint(0, vmax+1, size=L, dtype=cp.int32),\n",
        "        cp.int32(-1)\n",
        "    )\n",
        "\n",
        "def simulate_nasch_gpu(L, density, vmax, p_slow, steps):\n",
        "    road = initialize_road(L, density, vmax)\n",
        "    for _ in range(steps):\n",
        "        veh_mask = road >= 0\n",
        "        road[(veh_mask)&(road<vmax)] += 1\n",
        "\n",
        "        empty = road == -1\n",
        "        gap   = cp.zeros_like(road)\n",
        "        for shift in [1,2,4,8,16,32,64,128,256,512,1024,2048]:\n",
        "            e   = cp.roll(empty, -shift)\n",
        "            gap = cp.where(e, gap+shift, gap)\n",
        "\n",
        "        idxs = cp.where(veh_mask)[0]\n",
        "        vs   = road[idxs]\n",
        "        gs   = gap[idxs]\n",
        "        road[idxs] = cp.minimum(vs, gs)\n",
        "\n",
        "        rand = cp.random.random(road.size)\n",
        "        slow = (road>0)&(rand<p_slow)\n",
        "        road[slow] -= 1\n",
        "\n",
        "        new_road = cp.full_like(road, -1)\n",
        "        idxs     = cp.where(road>=0)[0]\n",
        "        dst      = (idxs + road[idxs]) % L\n",
        "        new_road[dst] = road[idxs]\n",
        "        road = new_road\n",
        "\n",
        "    return road\n",
        "\n",
        "# Parámetros\n",
        "L       = 500_000   # longitud de la carretera\n",
        "density = 0.5       # densidad de vehículos\n",
        "vmax    = 10        # velocidad máxima\n",
        "p_slow  = 0.3       # probabilidad de frenado aleatorio\n",
        "steps   = 500       # pasos de simulación\n",
        "\n",
        "# Ejecución y medida de tiempo\n",
        "start = time.time()\n",
        "road_final = simulate_nasch_gpu(L, density, vmax, p_slow, steps)\n",
        "cp.cuda.Stream.null.synchronize()\n",
        "print(\"Tiempo GPU:\", time.time() - start)"
      ],
      "metadata": {
        "colab": {
          "base_uri": "https://localhost:8080/"
        },
        "id": "0IExL9PVqM_y",
        "outputId": "9613f836-6426-44e2-8232-c5e43f765350"
      },
      "execution_count": null,
      "outputs": [
        {
          "output_type": "stream",
          "name": "stdout",
          "text": [
            "Tiempo GPU: 5.56258225440979\n"
          ]
        }
      ]
    },
    {
      "cell_type": "code",
      "source": [
        "# === Celda 1: Definición de funciones y simulación GPU ===\n",
        "\n",
        "import cupy as cp\n",
        "import time\n",
        "\n",
        "def initialize_road(L, density, vmax):\n",
        "    \"\"\"\n",
        "    Inicializa la carretera en GPU:\n",
        "      -1 = celda vacía\n",
        "      0…vmax = velocidad de un vehículo\n",
        "    \"\"\"\n",
        "    return cp.where(\n",
        "        cp.random.random(L) < density,\n",
        "        cp.random.randint(0, vmax + 1, size=L, dtype=cp.int32),\n",
        "        cp.int32(-1)\n",
        "    )\n",
        "\n",
        "def simulate_nasch_gpu(L, density, vmax, p_slow, steps):\n",
        "    \"\"\"\n",
        "    Simula el modelo Nagel–Schreckenberg en GPU usando CuPy.\n",
        "    \"\"\"\n",
        "    road = initialize_road(L, density, vmax)\n",
        "    for _ in range(steps):\n",
        "        # 1) Aceleración\n",
        "        veh_mask = road >= 0\n",
        "        road[veh_mask & (road < vmax)] += 1\n",
        "\n",
        "        # 2) Cálculo de huecos (gap)\n",
        "        empty = road == -1\n",
        "        gap = cp.zeros_like(road)\n",
        "        for shift in [1,2,4,8,16,32,64,128,256,512,1024,2048]:\n",
        "            e   = cp.roll(empty, -shift)\n",
        "            gap = cp.where(e, gap + shift, gap)\n",
        "\n",
        "        # 3) Frenado según gap\n",
        "        idxs = cp.where(veh_mask)[0]\n",
        "        vels = road[idxs]\n",
        "        gaps = gap[idxs]\n",
        "        road[idxs] = cp.minimum(vels, gaps)\n",
        "\n",
        "        # 4) Desaceleración aleatoria\n",
        "        rand      = cp.random.random(road.size)\n",
        "        slow_mask = (road > 0) & (rand < p_slow)\n",
        "        road[slow_mask] -= 1\n",
        "\n",
        "        # 5) Movimiento\n",
        "        new_road = cp.full_like(road, -1)\n",
        "        idxs     = cp.where(road >= 0)[0]\n",
        "        vels     = road[idxs]\n",
        "        dests    = (idxs + vels) % L\n",
        "        new_road[dests] = vels\n",
        "        road = new_road\n",
        "\n",
        "    return road\n",
        "\n",
        "def run_experiment(params):\n",
        "    \"\"\"\n",
        "    Ejecuta un experimento (L, steps) y mide su tiempo en GPU.\n",
        "    \"\"\"\n",
        "    L, steps = params\n",
        "    density, vmax, p_slow = 0.5, 10, 0.3\n",
        "    start = time.time()\n",
        "    simulate_nasch_gpu(L, density, vmax, p_slow, steps)\n",
        "    cp.cuda.Stream.null.synchronize()\n",
        "    elapsed = time.time() - start\n",
        "    return {\"L\": L, \"steps\": steps, \"time_s\": elapsed}\n"
      ],
      "metadata": {
        "id": "f7w3-n43u2L6"
      },
      "execution_count": null,
      "outputs": []
    },
    {
      "cell_type": "code",
      "source": [
        "# === Celda 2: Lanzamiento concurrente de experimentos via hilos ===\n",
        "\n",
        "from concurrent.futures import ThreadPoolExecutor, as_completed\n",
        "\n",
        "# Tu lista de experimentos\n",
        "experiments = [\n",
        "    (100_000, 500),\n",
        "    (500_000, 500),\n",
        "    (1_000_000, 500),\n",
        "    (5_000_000, 500),\n",
        "    (10_000_000, 500),\n",
        "    (15_000_000, 500),\n",
        "    (20_000_000, 500),\n",
        "    (25_000_000, 500),\n",
        "]\n",
        "\n",
        "results = []\n",
        "# Pon tantos hilos como quieras; con GPU no sirve de mucho poner muchos,\n",
        "# pero 2–4 suele estar bien para solapar lanzamiento y fetch de resultados.\n",
        "with ThreadPoolExecutor(max_workers=2) as executor:\n",
        "    futures = { executor.submit(run_experiment, p): p for p in experiments }\n",
        "    for fut in as_completed(futures):\n",
        "        res = fut.result()\n",
        "        print(f\"L={res['L']:,}, steps={res['steps']} → {res['time_s']:.3f} s\")\n",
        "        results.append(res)\n",
        "\n",
        "print(\"\\nResumen ordenado:\")\n",
        "for r in sorted(results, key=lambda x:(x[\"L\"], x[\"steps\"])):\n",
        "    print(f\" • L={r['L']:,}, steps={r['steps']:<4} → {r['time_s']:.3f} s\")\n"
      ],
      "metadata": {
        "colab": {
          "base_uri": "https://localhost:8080/"
        },
        "id": "qHcHrwJbwMQv",
        "outputId": "cb787667-a354-47f7-fcb6-302b38fbf159"
      },
      "execution_count": null,
      "outputs": [
        {
          "output_type": "stream",
          "name": "stdout",
          "text": [
            "L=100,000, steps=500 → 6.200 s\n",
            "L=500,000, steps=500 → 6.755 s\n",
            "L=1,000,000, steps=500 → 7.173 s\n",
            "L=5,000,000, steps=500 → 10.516 s\n",
            "L=10,000,000, steps=500 → 24.827 s\n",
            "L=15,000,000, steps=500 → 31.794 s\n",
            "L=20,000,000, steps=500 → 47.520 s\n",
            "L=25,000,000, steps=500 → 44.363 s\n",
            "\n",
            "Resumen ordenado:\n",
            " • L=100,000, steps=500  → 6.200 s\n",
            " • L=500,000, steps=500  → 6.755 s\n",
            " • L=1,000,000, steps=500  → 7.173 s\n",
            " • L=5,000,000, steps=500  → 10.516 s\n",
            " • L=10,000,000, steps=500  → 24.827 s\n",
            " • L=15,000,000, steps=500  → 31.794 s\n",
            " • L=20,000,000, steps=500  → 47.520 s\n",
            " • L=25,000,000, steps=500  → 44.363 s\n"
          ]
        }
      ]
    },
    {
      "cell_type": "code",
      "source": [],
      "metadata": {
        "id": "0hqMA9BpAdAl"
      },
      "execution_count": null,
      "outputs": []
    }
  ]
}